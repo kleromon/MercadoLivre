{
  "cells": [
    {
      "cell_type": "markdown",
      "metadata": {
        "id": "RdeFC99wWkbq"
      },
      "source": [
        "# Kleber Romon"
      ]
    },
    {
      "cell_type": "code",
      "execution_count": 1,
      "metadata": {
        "id": "D8YUi07ZWkbx"
      },
      "outputs": [],
      "source": [
        "import requests\n",
        "import pandas as pd\n",
        "# en esta parte lo que fue realizado fue el gathering de informaciones referientes as las ordenes y envios\n",
        "# esta funcion me va a devolver el tipo de logistica según lo que esta identificado en la parte de envios\n",
        "def logistc_type(type):\n",
        "        switcher = {\n",
        "            'fulfillment': \"Mercado Envios Full (fulfillment)\",\n",
        "            'drop_off': \"Mercado Envios Places (xd_drop_off)\",\n",
        "            'cross_docking': \"Mercado Envios Coleta (cross_docking)\",\n",
        "            'self_service':\"Mercado Envios Flex (self_service)\",\n",
        "\n",
        "        }\n",
        "        return switcher.get(type)\n",
        "# esta funcion va a devolver el cual es el origen del producto segun la logistica definida\n",
        "def origem(type):\n",
        "    switcher = {\n",
        "        'fulfillment': \"Depósitos\",\n",
        "    }\n",
        "    return switcher.get(type, \"Vendedor\")\n",
        "\n",
        "# esta funcion hace las conversiones de monedas basado en moneda del item\n",
        "\n",
        "def conversion_currency(from_currency,to_currency):\n",
        "    conversions = requests.get('https://api.mercadolibre.com/currency_conversions/search?from='+from_currency+'&to='+to_currency)\n",
        "    conversions = conversions.json()\n",
        "    \n",
        "    return conversions['ratio']\n",
        " \n",
        "# esta funcion va a buscar las informaciones solicitadas para cada una de las ordenes   \n",
        "    \n",
        "def Entity_Order(number_order):\n",
        "    \n",
        "    Order = requests.get('https://6f008c57-99e0-4a2e-8d80-782a71cf99db.mock.pstmn.io/orders/'+ number +'?caller.id=661750045').json()\n",
        "    \n",
        "    itens = Order[\"order_items\"]\n",
        "    \n",
        "    descr = \"\"\n",
        "    total_amount = 0\n",
        "    \n",
        "# este \"for\" va a validar si hay mas que 1 item por ordem y traer una descripcion de todos los itens de la orden\n",
        "    for i in range(0,len(itens)):\n",
        "        \n",
        "        ID_item = itens[i]['item']['id']\n",
        "\n",
        "        descr = descr + str(i+1)+\". \" + str(itens[i]['item']['title']) + \", \" + str(itens[i]['item']['variation_attributes'][0]['name']) +' ' +  str(itens[i]['item']['variation_attributes'][0]['value_name'])+'\\n'\n",
        "\n",
        "        total_amount = total_amount + itens[i]['quantity']*itens[i]['full_unit_price']\n",
        "\n",
        "        currency_id = itens[i]['currency_id']\n",
        "\n",
        "    taxes = Order[\"taxes\"]\n",
        "\n",
        "    currency_id_taxes = taxes['currency_id']\n",
        "\n",
        "    taxes_amount = taxes['amount']\n",
        "    \n",
        "# esta funcion va a validar si hay alguna tasa que deba ser cobrada y al mismo tiempo hacer la conversión de cambio\n",
        "    \n",
        "    if (taxes_amount != None): \n",
        "        if (currency_id_taxes != currency_id):\n",
        "            ratio = conversion_currency(currency_id_taxes,currency_id)\n",
        "            taxes_amount = taxes_amount*ratio\n",
        "    else:\n",
        "        taxes_amount = 0\n",
        "    \n",
        "    ID_shipping = Order[\"shipping\"][\"id\"]\n",
        "    \n",
        "    return Order['id'], ID_item, descr, currency_id, ID_shipping, total_amount, taxes_amount \n",
        "\n",
        "# esta funcion va a buscar las informaciones solicitadas para el envio de las ordenes\n",
        "\n",
        "def Entity_Shipment(ID_shipping):\n",
        "    \n",
        "    Shipment = requests.get('https://6f008c57-99e0-4a2e-8d80-782a71cf99db.mock.pstmn.io/shipments/'+str(ID_shipping)+'?caller.id=661750045').json()\n",
        "    \n",
        "    ID_Shipment = Shipment[\"id\"]\n",
        "    \n",
        "    shipping_cost = Shipment[\"shipping_option\"]['cost']\n",
        "    \n",
        "# si hay algun costo para el envio esta función hara la conversión de cambio, de lo contrario la funciona lom dejará como 0\n",
        "    \n",
        "    if (shipping_cost!= None):\n",
        "        if (Shipment[\"shipping_option\"]['currency_id']!= currency_id):\n",
        "            ratio = conversion_currency(Shipment[\"shipping_option\"]['currency_id'],currency_id)\n",
        "            taxes_amount = shipping_cost*ratio\n",
        "    else:\n",
        "        shipping_cost = 0\n",
        "        \n",
        "    status = str(Shipment[\"status\"])+ \", \" + Shipment[\"substatus\"]\n",
        "    \n",
        "# IF va a validar si el destino es una agencia o \"domicilio\" tal cual solicitado en el documento enviado\n",
        "\n",
        "    if Shipment[\"receiver_address\"][\"agency\"] == None:\n",
        "        destination = 'Domicílio'\n",
        "    else:\n",
        "        destination = 'Agency ID: ' + str(Shipment[\"receiver_address\"][\"agency\"][\"agency_id\"]) + ', carrier ID: ' + str(Shipment[\"receiver_address\"][\"agency\"][\"carrier_id\"])\n",
        "\n",
        "#datos del destinatario\n",
        "\n",
        "    receiver_address = str(Shipment[\"receiver_address\"][\"receiver_name\"])+\", \" + str(Shipment[\"receiver_address\"][\"street_name\"])+\", \"+ str(Shipment[\"receiver_address\"][\"street_number\"])+\", \"+ str(Shipment[\"receiver_address\"][\"comment\"])+\", \"+ str(Shipment[\"receiver_address\"][\"neighborhood\"][\"name\"]) +\", \"+ str(Shipment[\"receiver_address\"][\"city\"][\"name\"]) +\"-\"+ str(Shipment[\"receiver_address\"][\"state\"][\"name\"])\n",
        "    \n",
        "    logistic = Shipment[\"logistic_type\"]\n",
        "    \n",
        "    zip_code = Shipment[\"receiver_address\"][\"zip_code\"]\n",
        "    \n",
        "    return ID_Shipment, shipping_cost, status, destination, receiver_address, logistic, zip_code"
      ]
    },
    {
      "cell_type": "code",
      "execution_count": 2,
      "metadata": {
        "id": "gd0gdkLeWkb1"
      },
      "outputs": [],
      "source": [
        "\n",
        "dataframe = pd.DataFrame()\n",
        "    \n",
        "number_order = [\"4114988927\",\"4114988960\",\"4114999549\"]\n",
        "\n",
        "# esta función va a agarrar todas las ordenes mencionadas en Number_order y organizalas como en un archivo excel.\n",
        "\n",
        "for number in number_order:\n",
        "    \n",
        "    ID_ordem, ID_item, descr, currency_id, ID_shipping, total_amount, taxes_amount = Entity_Order(number_order)\n",
        "\n",
        "    ID_Shipment, shipping_cost, status, destination, receiver_address, logistic, zip_code = Entity_Shipment(ID_shipping)\n",
        "\n",
        "    total_amount_with_shipping = total_amount + taxes_amount + shipping_cost\n",
        "\n",
        "    df = {'ID ordem': [ID_ordem], 'ID item': [ID_item], 'Descricao do produto': [descr], 'Custo total da ordem': [total_amount_with_shipping], 'Moeda utilizada': [currency_id], 'ID Shipment': [ID_Shipment], 'logística': [logistc_type(logistic)], 'Estado e subestado do envio': [status], 'Origem': [origem(logistic)], 'Destino': [destination], 'Endereço completo': [receiver_address], \"CEP / Zipcode\": [zip_code] }\n",
        "\n",
        "    dataframe = pd.concat([dataframe, pd.DataFrame.from_dict(df)], ignore_index = True, axis = 0)\n"
      ]
    },
    {
      "cell_type": "code",
      "execution_count": 3,
      "metadata": {
        "id": "qNSg_k0IWkb2"
      },
      "outputs": [],
      "source": [
        "dataframe.to_csv('condicao_negocio.csv', encoding=\"utf-8-sig\")"
      ]
    },
    {
      "cell_type": "code",
      "execution_count": 3,
      "metadata": {
        "id": "DjC6V_6vWkb2"
      },
      "outputs": [],
      "source": []
    }
  ],
  "metadata": {
    "kernelspec": {
      "display_name": "Python 3",
      "language": "python",
      "name": "python3"
    },
    "language_info": {
      "codemirror_mode": {
        "name": "ipython",
        "version": 3
      },
      "file_extension": ".py",
      "mimetype": "text/x-python",
      "name": "python",
      "nbconvert_exporter": "python",
      "pygments_lexer": "ipython3",
      "version": "3.8.5"
    },
    "colab": {
      "name": "Kleber (1).ipynb",
      "provenance": [],
      "collapsed_sections": []
    }
  },
  "nbformat": 4,
  "nbformat_minor": 0
}